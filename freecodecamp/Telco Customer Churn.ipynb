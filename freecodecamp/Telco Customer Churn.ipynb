{
 "cells": [
  {
   "cell_type": "markdown",
   "id": "taken-wallet",
   "metadata": {},
   "source": [
    "# Telco Customer Churn"
   ]
  },
  {
   "cell_type": "code",
   "execution_count": 79,
   "id": "constant-fruit",
   "metadata": {},
   "outputs": [],
   "source": [
    "import numpy as np\n",
    "import pandas as pd\n",
    "import matplotlib.pyplot as plt"
   ]
  },
  {
   "cell_type": "code",
   "execution_count": 80,
   "id": "democratic-catch",
   "metadata": {},
   "outputs": [],
   "source": [
    "customers = pd.read_csv('data.csv')"
   ]
  },
  {
   "cell_type": "markdown",
   "id": "pregnant-terrain",
   "metadata": {},
   "source": [
    "### Data at glance"
   ]
  },
  {
   "cell_type": "code",
   "execution_count": 81,
   "id": "eligible-third",
   "metadata": {},
   "outputs": [
    {
     "data": {
      "text/html": [
       "<div>\n",
       "<style scoped>\n",
       "    .dataframe tbody tr th:only-of-type {\n",
       "        vertical-align: middle;\n",
       "    }\n",
       "\n",
       "    .dataframe tbody tr th {\n",
       "        vertical-align: top;\n",
       "    }\n",
       "\n",
       "    .dataframe thead th {\n",
       "        text-align: right;\n",
       "    }\n",
       "</style>\n",
       "<table border=\"1\" class=\"dataframe\">\n",
       "  <thead>\n",
       "    <tr style=\"text-align: right;\">\n",
       "      <th></th>\n",
       "      <th>customerID</th>\n",
       "      <th>gender</th>\n",
       "      <th>SeniorCitizen</th>\n",
       "      <th>Partner</th>\n",
       "      <th>Dependents</th>\n",
       "      <th>tenure</th>\n",
       "      <th>PhoneService</th>\n",
       "      <th>MultipleLines</th>\n",
       "      <th>InternetService</th>\n",
       "      <th>OnlineSecurity</th>\n",
       "      <th>...</th>\n",
       "      <th>DeviceProtection</th>\n",
       "      <th>TechSupport</th>\n",
       "      <th>StreamingTV</th>\n",
       "      <th>StreamingMovies</th>\n",
       "      <th>Contract</th>\n",
       "      <th>PaperlessBilling</th>\n",
       "      <th>PaymentMethod</th>\n",
       "      <th>MonthlyCharges</th>\n",
       "      <th>TotalCharges</th>\n",
       "      <th>Churn</th>\n",
       "    </tr>\n",
       "  </thead>\n",
       "  <tbody>\n",
       "    <tr>\n",
       "      <th>0</th>\n",
       "      <td>7590-VHVEG</td>\n",
       "      <td>Female</td>\n",
       "      <td>0</td>\n",
       "      <td>Yes</td>\n",
       "      <td>No</td>\n",
       "      <td>1</td>\n",
       "      <td>No</td>\n",
       "      <td>No phone service</td>\n",
       "      <td>DSL</td>\n",
       "      <td>No</td>\n",
       "      <td>...</td>\n",
       "      <td>No</td>\n",
       "      <td>No</td>\n",
       "      <td>No</td>\n",
       "      <td>No</td>\n",
       "      <td>Month-to-month</td>\n",
       "      <td>Yes</td>\n",
       "      <td>Electronic check</td>\n",
       "      <td>29.85</td>\n",
       "      <td>29.85</td>\n",
       "      <td>No</td>\n",
       "    </tr>\n",
       "    <tr>\n",
       "      <th>1</th>\n",
       "      <td>5575-GNVDE</td>\n",
       "      <td>Male</td>\n",
       "      <td>0</td>\n",
       "      <td>No</td>\n",
       "      <td>No</td>\n",
       "      <td>34</td>\n",
       "      <td>Yes</td>\n",
       "      <td>No</td>\n",
       "      <td>DSL</td>\n",
       "      <td>Yes</td>\n",
       "      <td>...</td>\n",
       "      <td>Yes</td>\n",
       "      <td>No</td>\n",
       "      <td>No</td>\n",
       "      <td>No</td>\n",
       "      <td>One year</td>\n",
       "      <td>No</td>\n",
       "      <td>Mailed check</td>\n",
       "      <td>56.95</td>\n",
       "      <td>1889.5</td>\n",
       "      <td>No</td>\n",
       "    </tr>\n",
       "    <tr>\n",
       "      <th>2</th>\n",
       "      <td>3668-QPYBK</td>\n",
       "      <td>Male</td>\n",
       "      <td>0</td>\n",
       "      <td>No</td>\n",
       "      <td>No</td>\n",
       "      <td>2</td>\n",
       "      <td>Yes</td>\n",
       "      <td>No</td>\n",
       "      <td>DSL</td>\n",
       "      <td>Yes</td>\n",
       "      <td>...</td>\n",
       "      <td>No</td>\n",
       "      <td>No</td>\n",
       "      <td>No</td>\n",
       "      <td>No</td>\n",
       "      <td>Month-to-month</td>\n",
       "      <td>Yes</td>\n",
       "      <td>Mailed check</td>\n",
       "      <td>53.85</td>\n",
       "      <td>108.15</td>\n",
       "      <td>Yes</td>\n",
       "    </tr>\n",
       "    <tr>\n",
       "      <th>3</th>\n",
       "      <td>7795-CFOCW</td>\n",
       "      <td>Male</td>\n",
       "      <td>0</td>\n",
       "      <td>No</td>\n",
       "      <td>No</td>\n",
       "      <td>45</td>\n",
       "      <td>No</td>\n",
       "      <td>No phone service</td>\n",
       "      <td>DSL</td>\n",
       "      <td>Yes</td>\n",
       "      <td>...</td>\n",
       "      <td>Yes</td>\n",
       "      <td>Yes</td>\n",
       "      <td>No</td>\n",
       "      <td>No</td>\n",
       "      <td>One year</td>\n",
       "      <td>No</td>\n",
       "      <td>Bank transfer (automatic)</td>\n",
       "      <td>42.30</td>\n",
       "      <td>1840.75</td>\n",
       "      <td>No</td>\n",
       "    </tr>\n",
       "    <tr>\n",
       "      <th>4</th>\n",
       "      <td>9237-HQITU</td>\n",
       "      <td>Female</td>\n",
       "      <td>0</td>\n",
       "      <td>No</td>\n",
       "      <td>No</td>\n",
       "      <td>2</td>\n",
       "      <td>Yes</td>\n",
       "      <td>No</td>\n",
       "      <td>Fiber optic</td>\n",
       "      <td>No</td>\n",
       "      <td>...</td>\n",
       "      <td>No</td>\n",
       "      <td>No</td>\n",
       "      <td>No</td>\n",
       "      <td>No</td>\n",
       "      <td>Month-to-month</td>\n",
       "      <td>Yes</td>\n",
       "      <td>Electronic check</td>\n",
       "      <td>70.70</td>\n",
       "      <td>151.65</td>\n",
       "      <td>Yes</td>\n",
       "    </tr>\n",
       "  </tbody>\n",
       "</table>\n",
       "<p>5 rows × 21 columns</p>\n",
       "</div>"
      ],
      "text/plain": [
       "   customerID  gender  SeniorCitizen Partner Dependents  tenure PhoneService  \\\n",
       "0  7590-VHVEG  Female              0     Yes         No       1           No   \n",
       "1  5575-GNVDE    Male              0      No         No      34          Yes   \n",
       "2  3668-QPYBK    Male              0      No         No       2          Yes   \n",
       "3  7795-CFOCW    Male              0      No         No      45           No   \n",
       "4  9237-HQITU  Female              0      No         No       2          Yes   \n",
       "\n",
       "      MultipleLines InternetService OnlineSecurity  ... DeviceProtection  \\\n",
       "0  No phone service             DSL             No  ...               No   \n",
       "1                No             DSL            Yes  ...              Yes   \n",
       "2                No             DSL            Yes  ...               No   \n",
       "3  No phone service             DSL            Yes  ...              Yes   \n",
       "4                No     Fiber optic             No  ...               No   \n",
       "\n",
       "  TechSupport StreamingTV StreamingMovies        Contract PaperlessBilling  \\\n",
       "0          No          No              No  Month-to-month              Yes   \n",
       "1          No          No              No        One year               No   \n",
       "2          No          No              No  Month-to-month              Yes   \n",
       "3         Yes          No              No        One year               No   \n",
       "4          No          No              No  Month-to-month              Yes   \n",
       "\n",
       "               PaymentMethod MonthlyCharges  TotalCharges Churn  \n",
       "0           Electronic check          29.85         29.85    No  \n",
       "1               Mailed check          56.95        1889.5    No  \n",
       "2               Mailed check          53.85        108.15   Yes  \n",
       "3  Bank transfer (automatic)          42.30       1840.75    No  \n",
       "4           Electronic check          70.70        151.65   Yes  \n",
       "\n",
       "[5 rows x 21 columns]"
      ]
     },
     "execution_count": 81,
     "metadata": {},
     "output_type": "execute_result"
    }
   ],
   "source": [
    "customers.head()"
   ]
  },
  {
   "cell_type": "markdown",
   "id": "official-undergraduate",
   "metadata": {},
   "source": [
    "## Removing redundant columns"
   ]
  },
  {
   "cell_type": "code",
   "execution_count": 82,
   "id": "falling-accessory",
   "metadata": {},
   "outputs": [
    {
     "data": {
      "text/html": [
       "<div>\n",
       "<style scoped>\n",
       "    .dataframe tbody tr th:only-of-type {\n",
       "        vertical-align: middle;\n",
       "    }\n",
       "\n",
       "    .dataframe tbody tr th {\n",
       "        vertical-align: top;\n",
       "    }\n",
       "\n",
       "    .dataframe thead th {\n",
       "        text-align: right;\n",
       "    }\n",
       "</style>\n",
       "<table border=\"1\" class=\"dataframe\">\n",
       "  <thead>\n",
       "    <tr style=\"text-align: right;\">\n",
       "      <th></th>\n",
       "      <th>gender</th>\n",
       "      <th>SeniorCitizen</th>\n",
       "      <th>Partner</th>\n",
       "      <th>Dependents</th>\n",
       "      <th>tenure</th>\n",
       "      <th>PhoneService</th>\n",
       "      <th>MultipleLines</th>\n",
       "      <th>InternetService</th>\n",
       "      <th>OnlineSecurity</th>\n",
       "      <th>OnlineBackup</th>\n",
       "      <th>DeviceProtection</th>\n",
       "      <th>TechSupport</th>\n",
       "      <th>StreamingTV</th>\n",
       "      <th>StreamingMovies</th>\n",
       "      <th>Contract</th>\n",
       "      <th>PaperlessBilling</th>\n",
       "      <th>PaymentMethod</th>\n",
       "      <th>MonthlyCharges</th>\n",
       "      <th>TotalCharges</th>\n",
       "      <th>Churn</th>\n",
       "    </tr>\n",
       "  </thead>\n",
       "  <tbody>\n",
       "    <tr>\n",
       "      <th>0</th>\n",
       "      <td>Female</td>\n",
       "      <td>0</td>\n",
       "      <td>Yes</td>\n",
       "      <td>No</td>\n",
       "      <td>1</td>\n",
       "      <td>No</td>\n",
       "      <td>No phone service</td>\n",
       "      <td>DSL</td>\n",
       "      <td>No</td>\n",
       "      <td>Yes</td>\n",
       "      <td>No</td>\n",
       "      <td>No</td>\n",
       "      <td>No</td>\n",
       "      <td>No</td>\n",
       "      <td>Month-to-month</td>\n",
       "      <td>Yes</td>\n",
       "      <td>Electronic check</td>\n",
       "      <td>29.85</td>\n",
       "      <td>29.85</td>\n",
       "      <td>No</td>\n",
       "    </tr>\n",
       "    <tr>\n",
       "      <th>1</th>\n",
       "      <td>Male</td>\n",
       "      <td>0</td>\n",
       "      <td>No</td>\n",
       "      <td>No</td>\n",
       "      <td>34</td>\n",
       "      <td>Yes</td>\n",
       "      <td>No</td>\n",
       "      <td>DSL</td>\n",
       "      <td>Yes</td>\n",
       "      <td>No</td>\n",
       "      <td>Yes</td>\n",
       "      <td>No</td>\n",
       "      <td>No</td>\n",
       "      <td>No</td>\n",
       "      <td>One year</td>\n",
       "      <td>No</td>\n",
       "      <td>Mailed check</td>\n",
       "      <td>56.95</td>\n",
       "      <td>1889.5</td>\n",
       "      <td>No</td>\n",
       "    </tr>\n",
       "    <tr>\n",
       "      <th>2</th>\n",
       "      <td>Male</td>\n",
       "      <td>0</td>\n",
       "      <td>No</td>\n",
       "      <td>No</td>\n",
       "      <td>2</td>\n",
       "      <td>Yes</td>\n",
       "      <td>No</td>\n",
       "      <td>DSL</td>\n",
       "      <td>Yes</td>\n",
       "      <td>Yes</td>\n",
       "      <td>No</td>\n",
       "      <td>No</td>\n",
       "      <td>No</td>\n",
       "      <td>No</td>\n",
       "      <td>Month-to-month</td>\n",
       "      <td>Yes</td>\n",
       "      <td>Mailed check</td>\n",
       "      <td>53.85</td>\n",
       "      <td>108.15</td>\n",
       "      <td>Yes</td>\n",
       "    </tr>\n",
       "    <tr>\n",
       "      <th>3</th>\n",
       "      <td>Male</td>\n",
       "      <td>0</td>\n",
       "      <td>No</td>\n",
       "      <td>No</td>\n",
       "      <td>45</td>\n",
       "      <td>No</td>\n",
       "      <td>No phone service</td>\n",
       "      <td>DSL</td>\n",
       "      <td>Yes</td>\n",
       "      <td>No</td>\n",
       "      <td>Yes</td>\n",
       "      <td>Yes</td>\n",
       "      <td>No</td>\n",
       "      <td>No</td>\n",
       "      <td>One year</td>\n",
       "      <td>No</td>\n",
       "      <td>Bank transfer (automatic)</td>\n",
       "      <td>42.30</td>\n",
       "      <td>1840.75</td>\n",
       "      <td>No</td>\n",
       "    </tr>\n",
       "    <tr>\n",
       "      <th>4</th>\n",
       "      <td>Female</td>\n",
       "      <td>0</td>\n",
       "      <td>No</td>\n",
       "      <td>No</td>\n",
       "      <td>2</td>\n",
       "      <td>Yes</td>\n",
       "      <td>No</td>\n",
       "      <td>Fiber optic</td>\n",
       "      <td>No</td>\n",
       "      <td>No</td>\n",
       "      <td>No</td>\n",
       "      <td>No</td>\n",
       "      <td>No</td>\n",
       "      <td>No</td>\n",
       "      <td>Month-to-month</td>\n",
       "      <td>Yes</td>\n",
       "      <td>Electronic check</td>\n",
       "      <td>70.70</td>\n",
       "      <td>151.65</td>\n",
       "      <td>Yes</td>\n",
       "    </tr>\n",
       "  </tbody>\n",
       "</table>\n",
       "</div>"
      ],
      "text/plain": [
       "   gender  SeniorCitizen Partner Dependents  tenure PhoneService  \\\n",
       "0  Female              0     Yes         No       1           No   \n",
       "1    Male              0      No         No      34          Yes   \n",
       "2    Male              0      No         No       2          Yes   \n",
       "3    Male              0      No         No      45           No   \n",
       "4  Female              0      No         No       2          Yes   \n",
       "\n",
       "      MultipleLines InternetService OnlineSecurity OnlineBackup  \\\n",
       "0  No phone service             DSL             No          Yes   \n",
       "1                No             DSL            Yes           No   \n",
       "2                No             DSL            Yes          Yes   \n",
       "3  No phone service             DSL            Yes           No   \n",
       "4                No     Fiber optic             No           No   \n",
       "\n",
       "  DeviceProtection TechSupport StreamingTV StreamingMovies        Contract  \\\n",
       "0               No          No          No              No  Month-to-month   \n",
       "1              Yes          No          No              No        One year   \n",
       "2               No          No          No              No  Month-to-month   \n",
       "3              Yes         Yes          No              No        One year   \n",
       "4               No          No          No              No  Month-to-month   \n",
       "\n",
       "  PaperlessBilling              PaymentMethod  MonthlyCharges TotalCharges  \\\n",
       "0              Yes           Electronic check           29.85        29.85   \n",
       "1               No               Mailed check           56.95       1889.5   \n",
       "2              Yes               Mailed check           53.85       108.15   \n",
       "3               No  Bank transfer (automatic)           42.30      1840.75   \n",
       "4              Yes           Electronic check           70.70       151.65   \n",
       "\n",
       "  Churn  \n",
       "0    No  \n",
       "1    No  \n",
       "2   Yes  \n",
       "3    No  \n",
       "4   Yes  "
      ]
     },
     "execution_count": 82,
     "metadata": {},
     "output_type": "execute_result"
    }
   ],
   "source": [
    "customers = customers.drop(columns=['customerID'])\n",
    "customers.head()"
   ]
  },
  {
   "cell_type": "code",
   "execution_count": 83,
   "id": "quality-anniversary",
   "metadata": {},
   "outputs": [
    {
     "data": {
      "text/plain": [
       "(7043, 20)"
      ]
     },
     "execution_count": 83,
     "metadata": {},
     "output_type": "execute_result"
    }
   ],
   "source": [
    "customers.shape"
   ]
  },
  {
   "cell_type": "code",
   "execution_count": 84,
   "id": "english-philadelphia",
   "metadata": {},
   "outputs": [
    {
     "name": "stdout",
     "output_type": "stream",
     "text": [
      "<class 'pandas.core.frame.DataFrame'>\n",
      "RangeIndex: 7043 entries, 0 to 7042\n",
      "Data columns (total 20 columns):\n",
      " #   Column            Non-Null Count  Dtype  \n",
      "---  ------            --------------  -----  \n",
      " 0   gender            7043 non-null   object \n",
      " 1   SeniorCitizen     7043 non-null   int64  \n",
      " 2   Partner           7043 non-null   object \n",
      " 3   Dependents        7043 non-null   object \n",
      " 4   tenure            7043 non-null   int64  \n",
      " 5   PhoneService      7043 non-null   object \n",
      " 6   MultipleLines     7043 non-null   object \n",
      " 7   InternetService   7043 non-null   object \n",
      " 8   OnlineSecurity    7043 non-null   object \n",
      " 9   OnlineBackup      7043 non-null   object \n",
      " 10  DeviceProtection  7043 non-null   object \n",
      " 11  TechSupport       7043 non-null   object \n",
      " 12  StreamingTV       7043 non-null   object \n",
      " 13  StreamingMovies   7043 non-null   object \n",
      " 14  Contract          7043 non-null   object \n",
      " 15  PaperlessBilling  7043 non-null   object \n",
      " 16  PaymentMethod     7043 non-null   object \n",
      " 17  MonthlyCharges    7043 non-null   float64\n",
      " 18  TotalCharges      7043 non-null   object \n",
      " 19  Churn             7043 non-null   object \n",
      "dtypes: float64(1), int64(2), object(17)\n",
      "memory usage: 1.1+ MB\n"
     ]
    }
   ],
   "source": [
    "customers.info()"
   ]
  },
  {
   "cell_type": "code",
   "execution_count": 85,
   "id": "aboriginal-brooks",
   "metadata": {},
   "outputs": [
    {
     "data": {
      "text/html": [
       "<div>\n",
       "<style scoped>\n",
       "    .dataframe tbody tr th:only-of-type {\n",
       "        vertical-align: middle;\n",
       "    }\n",
       "\n",
       "    .dataframe tbody tr th {\n",
       "        vertical-align: top;\n",
       "    }\n",
       "\n",
       "    .dataframe thead th {\n",
       "        text-align: right;\n",
       "    }\n",
       "</style>\n",
       "<table border=\"1\" class=\"dataframe\">\n",
       "  <thead>\n",
       "    <tr style=\"text-align: right;\">\n",
       "      <th></th>\n",
       "      <th>SeniorCitizen</th>\n",
       "      <th>tenure</th>\n",
       "      <th>MonthlyCharges</th>\n",
       "    </tr>\n",
       "  </thead>\n",
       "  <tbody>\n",
       "    <tr>\n",
       "      <th>count</th>\n",
       "      <td>7043.000000</td>\n",
       "      <td>7043.000000</td>\n",
       "      <td>7043.000000</td>\n",
       "    </tr>\n",
       "    <tr>\n",
       "      <th>mean</th>\n",
       "      <td>0.162147</td>\n",
       "      <td>32.371149</td>\n",
       "      <td>64.761692</td>\n",
       "    </tr>\n",
       "    <tr>\n",
       "      <th>std</th>\n",
       "      <td>0.368612</td>\n",
       "      <td>24.559481</td>\n",
       "      <td>30.090047</td>\n",
       "    </tr>\n",
       "    <tr>\n",
       "      <th>min</th>\n",
       "      <td>0.000000</td>\n",
       "      <td>0.000000</td>\n",
       "      <td>18.250000</td>\n",
       "    </tr>\n",
       "    <tr>\n",
       "      <th>25%</th>\n",
       "      <td>0.000000</td>\n",
       "      <td>9.000000</td>\n",
       "      <td>35.500000</td>\n",
       "    </tr>\n",
       "    <tr>\n",
       "      <th>50%</th>\n",
       "      <td>0.000000</td>\n",
       "      <td>29.000000</td>\n",
       "      <td>70.350000</td>\n",
       "    </tr>\n",
       "    <tr>\n",
       "      <th>75%</th>\n",
       "      <td>0.000000</td>\n",
       "      <td>55.000000</td>\n",
       "      <td>89.850000</td>\n",
       "    </tr>\n",
       "    <tr>\n",
       "      <th>max</th>\n",
       "      <td>1.000000</td>\n",
       "      <td>72.000000</td>\n",
       "      <td>118.750000</td>\n",
       "    </tr>\n",
       "  </tbody>\n",
       "</table>\n",
       "</div>"
      ],
      "text/plain": [
       "       SeniorCitizen       tenure  MonthlyCharges\n",
       "count    7043.000000  7043.000000     7043.000000\n",
       "mean        0.162147    32.371149       64.761692\n",
       "std         0.368612    24.559481       30.090047\n",
       "min         0.000000     0.000000       18.250000\n",
       "25%         0.000000     9.000000       35.500000\n",
       "50%         0.000000    29.000000       70.350000\n",
       "75%         0.000000    55.000000       89.850000\n",
       "max         1.000000    72.000000      118.750000"
      ]
     },
     "execution_count": 85,
     "metadata": {},
     "output_type": "execute_result"
    }
   ],
   "source": [
    "customers.describe()"
   ]
  },
  {
   "cell_type": "markdown",
   "id": "expanded-bathroom",
   "metadata": {},
   "source": [
    "## Numerical analysis and visualization"
   ]
  },
  {
   "cell_type": "markdown",
   "id": "printable-japan",
   "metadata": {},
   "source": [
    "We'll analyze Tenure column:\n",
    "\n"
   ]
  },
  {
   "cell_type": "code",
   "execution_count": 86,
   "id": "double-element",
   "metadata": {},
   "outputs": [
    {
     "data": {
      "text/plain": [
       "count    7043.000000\n",
       "mean       32.371149\n",
       "std        24.559481\n",
       "min         0.000000\n",
       "25%         9.000000\n",
       "50%        29.000000\n",
       "75%        55.000000\n",
       "max        72.000000\n",
       "Name: tenure, dtype: float64"
      ]
     },
     "execution_count": 86,
     "metadata": {},
     "output_type": "execute_result"
    }
   ],
   "source": [
    "customers['tenure'].describe()"
   ]
  },
  {
   "cell_type": "code",
   "execution_count": 87,
   "id": "elementary-tragedy",
   "metadata": {},
   "outputs": [
    {
     "data": {
      "text/plain": [
       "32.37114865824223"
      ]
     },
     "execution_count": 87,
     "metadata": {},
     "output_type": "execute_result"
    }
   ],
   "source": [
    "customers['tenure'].mean()"
   ]
  },
  {
   "cell_type": "code",
   "execution_count": 88,
   "id": "behind-handle",
   "metadata": {},
   "outputs": [
    {
     "data": {
      "text/plain": [
       "29.0"
      ]
     },
     "execution_count": 88,
     "metadata": {},
     "output_type": "execute_result"
    }
   ],
   "source": [
    "customers['tenure'].median()"
   ]
  },
  {
   "cell_type": "code",
   "execution_count": 89,
   "id": "thermal-cream",
   "metadata": {},
   "outputs": [
    {
     "data": {
      "text/plain": [
       "<AxesSubplot:>"
      ]
     },
     "execution_count": 89,
     "metadata": {},
     "output_type": "execute_result"
    },
    {
     "data": {
      "image/png": "[encoded data removed]",
      "text/plain": [
       "<Figure size 1008x432 with 1 Axes>"
      ]
     },
     "metadata": {
      "needs_background": "light"
     },
     "output_type": "display_data"
    }
   ],
   "source": [
    "customers['tenure'].plot(kind='box', vert=False, figsize=(14,6))"
   ]
  },
  {
   "cell_type": "code",
   "execution_count": 90,
   "id": "judicial-anaheim",
   "metadata": {},
   "outputs": [
    {
     "data": {
      "text/plain": [
       "<AxesSubplot:ylabel='Density'>"
      ]
     },
     "execution_count": 90,
     "metadata": {},
     "output_type": "execute_result"
    },
    {
     "data": {
      "image/png": "[encoded data removed]",
      "text/plain": [
       "<Figure size 1008x432 with 1 Axes>"
      ]
     },
     "metadata": {
      "needs_background": "light"
     },
     "output_type": "display_data"
    }
   ],
   "source": [
    "customers['tenure'].plot(kind='density', figsize=(14,6)) "
   ]
  },
  {
   "cell_type": "code",
   "execution_count": 91,
   "id": "artificial-filling",
   "metadata": {},
   "outputs": [
    {
     "data": {
      "text/plain": [
       "<matplotlib.lines.Line2D at 0x11f122bb0>"
      ]
     },
     "execution_count": 91,
     "metadata": {},
     "output_type": "execute_result"
    },
    {
     "data": {
      "image/png": "[encoded data removed]",
      "text/plain": [
       "<Figure size 1008x432 with 1 Axes>"
      ]
     },
     "metadata": {
      "needs_background": "light"
     },
     "output_type": "display_data"
    }
   ],
   "source": [
    "ax = customers['tenure'].plot(kind='density', figsize=(14,6)) # kde\n",
    "ax.axvline(customers['tenure'].mean(), color='red')\n",
    "ax.axvline(customers['tenure'].median(), color='green')"
   ]
  },
  {
   "cell_type": "code",
   "execution_count": 92,
   "id": "appointed-cleaning",
   "metadata": {},
   "outputs": [
    {
     "data": {
      "text/plain": [
       "Text(0.5, 0, 'Tenure days')"
      ]
     },
     "execution_count": 92,
     "metadata": {},
     "output_type": "execute_result"
    },
    {
     "data": {
      "image/png": "[encoded data removed]",
      "text/plain": [
       "<Figure size 1008x432 with 1 Axes>"
      ]
     },
     "metadata": {
      "needs_background": "light"
     },
     "output_type": "display_data"
    }
   ],
   "source": [
    "ax = customers['tenure'].plot(kind='hist', figsize=(14,6))\n",
    "ax.set_ylabel('Number of customers')\n",
    "ax.set_xlabel('Tenure days')"
   ]
  },
  {
   "cell_type": "markdown",
   "id": "established-dodge",
   "metadata": {},
   "source": [
    "## Categorical analysis and visualization"
   ]
  },
  {
   "cell_type": "markdown",
   "id": "massive-estimate",
   "metadata": {},
   "source": [
    "We'll analyze the Contract column:\n",
    "\n"
   ]
  },
  {
   "cell_type": "code",
   "execution_count": 93,
   "id": "dramatic-neighbor",
   "metadata": {},
   "outputs": [
    {
     "data": {
      "text/html": [
       "<div>\n",
       "<style scoped>\n",
       "    .dataframe tbody tr th:only-of-type {\n",
       "        vertical-align: middle;\n",
       "    }\n",
       "\n",
       "    .dataframe tbody tr th {\n",
       "        vertical-align: top;\n",
       "    }\n",
       "\n",
       "    .dataframe thead th {\n",
       "        text-align: right;\n",
       "    }\n",
       "</style>\n",
       "<table border=\"1\" class=\"dataframe\">\n",
       "  <thead>\n",
       "    <tr style=\"text-align: right;\">\n",
       "      <th></th>\n",
       "      <th>gender</th>\n",
       "      <th>SeniorCitizen</th>\n",
       "      <th>Partner</th>\n",
       "      <th>Dependents</th>\n",
       "      <th>tenure</th>\n",
       "      <th>PhoneService</th>\n",
       "      <th>MultipleLines</th>\n",
       "      <th>InternetService</th>\n",
       "      <th>OnlineSecurity</th>\n",
       "      <th>OnlineBackup</th>\n",
       "      <th>DeviceProtection</th>\n",
       "      <th>TechSupport</th>\n",
       "      <th>StreamingTV</th>\n",
       "      <th>StreamingMovies</th>\n",
       "      <th>Contract</th>\n",
       "      <th>PaperlessBilling</th>\n",
       "      <th>PaymentMethod</th>\n",
       "      <th>MonthlyCharges</th>\n",
       "      <th>TotalCharges</th>\n",
       "      <th>Churn</th>\n",
       "    </tr>\n",
       "  </thead>\n",
       "  <tbody>\n",
       "    <tr>\n",
       "      <th>0</th>\n",
       "      <td>Female</td>\n",
       "      <td>0</td>\n",
       "      <td>Yes</td>\n",
       "      <td>No</td>\n",
       "      <td>1</td>\n",
       "      <td>No</td>\n",
       "      <td>No phone service</td>\n",
       "      <td>DSL</td>\n",
       "      <td>No</td>\n",
       "      <td>Yes</td>\n",
       "      <td>No</td>\n",
       "      <td>No</td>\n",
       "      <td>No</td>\n",
       "      <td>No</td>\n",
       "      <td>Month-to-month</td>\n",
       "      <td>Yes</td>\n",
       "      <td>Electronic check</td>\n",
       "      <td>29.85</td>\n",
       "      <td>29.85</td>\n",
       "      <td>No</td>\n",
       "    </tr>\n",
       "    <tr>\n",
       "      <th>1</th>\n",
       "      <td>Male</td>\n",
       "      <td>0</td>\n",
       "      <td>No</td>\n",
       "      <td>No</td>\n",
       "      <td>34</td>\n",
       "      <td>Yes</td>\n",
       "      <td>No</td>\n",
       "      <td>DSL</td>\n",
       "      <td>Yes</td>\n",
       "      <td>No</td>\n",
       "      <td>Yes</td>\n",
       "      <td>No</td>\n",
       "      <td>No</td>\n",
       "      <td>No</td>\n",
       "      <td>One year</td>\n",
       "      <td>No</td>\n",
       "      <td>Mailed check</td>\n",
       "      <td>56.95</td>\n",
       "      <td>1889.5</td>\n",
       "      <td>No</td>\n",
       "    </tr>\n",
       "    <tr>\n",
       "      <th>2</th>\n",
       "      <td>Male</td>\n",
       "      <td>0</td>\n",
       "      <td>No</td>\n",
       "      <td>No</td>\n",
       "      <td>2</td>\n",
       "      <td>Yes</td>\n",
       "      <td>No</td>\n",
       "      <td>DSL</td>\n",
       "      <td>Yes</td>\n",
       "      <td>Yes</td>\n",
       "      <td>No</td>\n",
       "      <td>No</td>\n",
       "      <td>No</td>\n",
       "      <td>No</td>\n",
       "      <td>Month-to-month</td>\n",
       "      <td>Yes</td>\n",
       "      <td>Mailed check</td>\n",
       "      <td>53.85</td>\n",
       "      <td>108.15</td>\n",
       "      <td>Yes</td>\n",
       "    </tr>\n",
       "  </tbody>\n",
       "</table>\n",
       "</div>"
      ],
      "text/plain": [
       "   gender  SeniorCitizen Partner Dependents  tenure PhoneService  \\\n",
       "0  Female              0     Yes         No       1           No   \n",
       "1    Male              0      No         No      34          Yes   \n",
       "2    Male              0      No         No       2          Yes   \n",
       "\n",
       "      MultipleLines InternetService OnlineSecurity OnlineBackup  \\\n",
       "0  No phone service             DSL             No          Yes   \n",
       "1                No             DSL            Yes           No   \n",
       "2                No             DSL            Yes          Yes   \n",
       "\n",
       "  DeviceProtection TechSupport StreamingTV StreamingMovies        Contract  \\\n",
       "0               No          No          No              No  Month-to-month   \n",
       "1              Yes          No          No              No        One year   \n",
       "2               No          No          No              No  Month-to-month   \n",
       "\n",
       "  PaperlessBilling     PaymentMethod  MonthlyCharges TotalCharges Churn  \n",
       "0              Yes  Electronic check           29.85        29.85    No  \n",
       "1               No      Mailed check           56.95       1889.5    No  \n",
       "2              Yes      Mailed check           53.85       108.15   Yes  "
      ]
     },
     "execution_count": 93,
     "metadata": {},
     "output_type": "execute_result"
    }
   ],
   "source": [
    "customers.head(3)"
   ]
  },
  {
   "cell_type": "code",
   "execution_count": 94,
   "id": "danish-cradle",
   "metadata": {},
   "outputs": [
    {
     "data": {
      "text/plain": [
       "Month-to-month    3875\n",
       "Two year          1695\n",
       "One year          1473\n",
       "Name: Contract, dtype: int64"
      ]
     },
     "execution_count": 94,
     "metadata": {},
     "output_type": "execute_result"
    }
   ],
   "source": [
    "customers['Contract'].value_counts()"
   ]
  },
  {
   "cell_type": "code",
   "execution_count": 95,
   "id": "danish-albania",
   "metadata": {},
   "outputs": [
    {
     "data": {
      "text/plain": [
       "<AxesSubplot:ylabel='Contract'>"
      ]
     },
     "execution_count": 95,
     "metadata": {},
     "output_type": "execute_result"
    },
    {
     "data": {
      "image/png": "[encoded data removed]",
      "text/plain": [
       "<Figure size 432x432 with 1 Axes>"
      ]
     },
     "metadata": {},
     "output_type": "display_data"
    }
   ],
   "source": [
    "customers['Contract'].value_counts().plot(kind='pie', figsize=(6,6))"
   ]
  },
  {
   "cell_type": "code",
   "execution_count": 96,
   "id": "conservative-violin",
   "metadata": {},
   "outputs": [
    {
     "data": {
      "text/plain": [
       "Text(0, 0.5, 'Number of Cusomters')"
      ]
     },
     "execution_count": 96,
     "metadata": {},
     "output_type": "execute_result"
    },
    {
     "data": {
      "image/png": "[encoded data removed]",
      "text/plain": [
       "<Figure size 1008x432 with 1 Axes>"
      ]
     },
     "metadata": {
      "needs_background": "light"
     },
     "output_type": "display_data"
    }
   ],
   "source": [
    "ax = customers['Contract'].value_counts().plot(kind='bar', figsize=(14,6))\n",
    "ax.set_ylabel('Number of Cusomters')"
   ]
  },
  {
   "cell_type": "markdown",
   "id": "consolidated-motion",
   "metadata": {},
   "source": [
    "## Relationship between the columns"
   ]
  },
  {
   "cell_type": "markdown",
   "id": "dirty-uncle",
   "metadata": {},
   "source": [
    "Can we find any significant relationship"
   ]
  },
  {
   "cell_type": "markdown",
   "id": "royal-campaign",
   "metadata": {},
   "source": [
    "Convert NAN's to numbers:\n"
   ]
  },
  {
   "cell_type": "code",
   "execution_count": 97,
   "id": "juvenile-bathroom",
   "metadata": {},
   "outputs": [
    {
     "data": {
      "text/html": [
       "<div>\n",
       "<style scoped>\n",
       "    .dataframe tbody tr th:only-of-type {\n",
       "        vertical-align: middle;\n",
       "    }\n",
       "\n",
       "    .dataframe tbody tr th {\n",
       "        vertical-align: top;\n",
       "    }\n",
       "\n",
       "    .dataframe thead th {\n",
       "        text-align: right;\n",
       "    }\n",
       "</style>\n",
       "<table border=\"1\" class=\"dataframe\">\n",
       "  <thead>\n",
       "    <tr style=\"text-align: right;\">\n",
       "      <th></th>\n",
       "      <th>gender</th>\n",
       "      <th>SeniorCitizen</th>\n",
       "      <th>Partner</th>\n",
       "      <th>Dependents</th>\n",
       "      <th>tenure</th>\n",
       "      <th>PhoneService</th>\n",
       "      <th>MultipleLines</th>\n",
       "      <th>InternetService</th>\n",
       "      <th>OnlineSecurity</th>\n",
       "      <th>OnlineBackup</th>\n",
       "      <th>DeviceProtection</th>\n",
       "      <th>TechSupport</th>\n",
       "      <th>StreamingTV</th>\n",
       "      <th>StreamingMovies</th>\n",
       "      <th>Contract</th>\n",
       "      <th>PaperlessBilling</th>\n",
       "      <th>PaymentMethod</th>\n",
       "      <th>MonthlyCharges</th>\n",
       "      <th>TotalCharges</th>\n",
       "      <th>Churn</th>\n",
       "    </tr>\n",
       "  </thead>\n",
       "  <tbody>\n",
       "    <tr>\n",
       "      <th>0</th>\n",
       "      <td>Female</td>\n",
       "      <td>0</td>\n",
       "      <td>Yes</td>\n",
       "      <td>No</td>\n",
       "      <td>1</td>\n",
       "      <td>No</td>\n",
       "      <td>No phone service</td>\n",
       "      <td>DSL</td>\n",
       "      <td>No</td>\n",
       "      <td>Yes</td>\n",
       "      <td>No</td>\n",
       "      <td>No</td>\n",
       "      <td>No</td>\n",
       "      <td>No</td>\n",
       "      <td>Month-to-month</td>\n",
       "      <td>Yes</td>\n",
       "      <td>Electronic check</td>\n",
       "      <td>29.85</td>\n",
       "      <td>29.85</td>\n",
       "      <td>No</td>\n",
       "    </tr>\n",
       "    <tr>\n",
       "      <th>1</th>\n",
       "      <td>Male</td>\n",
       "      <td>0</td>\n",
       "      <td>No</td>\n",
       "      <td>No</td>\n",
       "      <td>34</td>\n",
       "      <td>Yes</td>\n",
       "      <td>No</td>\n",
       "      <td>DSL</td>\n",
       "      <td>Yes</td>\n",
       "      <td>No</td>\n",
       "      <td>Yes</td>\n",
       "      <td>No</td>\n",
       "      <td>No</td>\n",
       "      <td>No</td>\n",
       "      <td>One year</td>\n",
       "      <td>No</td>\n",
       "      <td>Mailed check</td>\n",
       "      <td>56.95</td>\n",
       "      <td>1889.5</td>\n",
       "      <td>No</td>\n",
       "    </tr>\n",
       "    <tr>\n",
       "      <th>2</th>\n",
       "      <td>Male</td>\n",
       "      <td>0</td>\n",
       "      <td>No</td>\n",
       "      <td>No</td>\n",
       "      <td>2</td>\n",
       "      <td>Yes</td>\n",
       "      <td>No</td>\n",
       "      <td>DSL</td>\n",
       "      <td>Yes</td>\n",
       "      <td>Yes</td>\n",
       "      <td>No</td>\n",
       "      <td>No</td>\n",
       "      <td>No</td>\n",
       "      <td>No</td>\n",
       "      <td>Month-to-month</td>\n",
       "      <td>Yes</td>\n",
       "      <td>Mailed check</td>\n",
       "      <td>53.85</td>\n",
       "      <td>108.15</td>\n",
       "      <td>Yes</td>\n",
       "    </tr>\n",
       "  </tbody>\n",
       "</table>\n",
       "</div>"
      ],
      "text/plain": [
       "   gender  SeniorCitizen Partner Dependents  tenure PhoneService  \\\n",
       "0  Female              0     Yes         No       1           No   \n",
       "1    Male              0      No         No      34          Yes   \n",
       "2    Male              0      No         No       2          Yes   \n",
       "\n",
       "      MultipleLines InternetService OnlineSecurity OnlineBackup  \\\n",
       "0  No phone service             DSL             No          Yes   \n",
       "1                No             DSL            Yes           No   \n",
       "2                No             DSL            Yes          Yes   \n",
       "\n",
       "  DeviceProtection TechSupport StreamingTV StreamingMovies        Contract  \\\n",
       "0               No          No          No              No  Month-to-month   \n",
       "1              Yes          No          No              No        One year   \n",
       "2               No          No          No              No  Month-to-month   \n",
       "\n",
       "  PaperlessBilling     PaymentMethod  MonthlyCharges TotalCharges Churn  \n",
       "0              Yes  Electronic check           29.85        29.85    No  \n",
       "1               No      Mailed check           56.95       1889.5    No  \n",
       "2              Yes      Mailed check           53.85       108.15   Yes  "
      ]
     },
     "execution_count": 97,
     "metadata": {},
     "output_type": "execute_result"
    }
   ],
   "source": [
    "customers.head(3)"
   ]
  },
  {
   "cell_type": "code",
   "execution_count": 98,
   "id": "treated-dealing",
   "metadata": {},
   "outputs": [
    {
     "data": {
      "text/html": [
       "<div>\n",
       "<style scoped>\n",
       "    .dataframe tbody tr th:only-of-type {\n",
       "        vertical-align: middle;\n",
       "    }\n",
       "\n",
       "    .dataframe tbody tr th {\n",
       "        vertical-align: top;\n",
       "    }\n",
       "\n",
       "    .dataframe thead th {\n",
       "        text-align: right;\n",
       "    }\n",
       "</style>\n",
       "<table border=\"1\" class=\"dataframe\">\n",
       "  <thead>\n",
       "    <tr style=\"text-align: right;\">\n",
       "      <th></th>\n",
       "      <th>gender</th>\n",
       "      <th>SeniorCitizen</th>\n",
       "      <th>Partner</th>\n",
       "      <th>Dependents</th>\n",
       "      <th>tenure</th>\n",
       "      <th>PhoneService</th>\n",
       "      <th>MultipleLines</th>\n",
       "      <th>InternetService</th>\n",
       "      <th>OnlineSecurity</th>\n",
       "      <th>OnlineBackup</th>\n",
       "      <th>DeviceProtection</th>\n",
       "      <th>TechSupport</th>\n",
       "      <th>StreamingTV</th>\n",
       "      <th>StreamingMovies</th>\n",
       "      <th>Contract</th>\n",
       "      <th>PaperlessBilling</th>\n",
       "      <th>PaymentMethod</th>\n",
       "      <th>MonthlyCharges</th>\n",
       "      <th>TotalCharges</th>\n",
       "      <th>Churn</th>\n",
       "    </tr>\n",
       "  </thead>\n",
       "  <tbody>\n",
       "    <tr>\n",
       "      <th>0</th>\n",
       "      <td>0</td>\n",
       "      <td>0</td>\n",
       "      <td>0</td>\n",
       "      <td>0</td>\n",
       "      <td>0</td>\n",
       "      <td>0</td>\n",
       "      <td>0</td>\n",
       "      <td>0</td>\n",
       "      <td>0</td>\n",
       "      <td>0</td>\n",
       "      <td>0</td>\n",
       "      <td>0</td>\n",
       "      <td>0</td>\n",
       "      <td>0</td>\n",
       "      <td>0</td>\n",
       "      <td>0</td>\n",
       "      <td>0</td>\n",
       "      <td>0</td>\n",
       "      <td>0</td>\n",
       "      <td>0</td>\n",
       "    </tr>\n",
       "    <tr>\n",
       "      <th>1</th>\n",
       "      <td>1</td>\n",
       "      <td>0</td>\n",
       "      <td>1</td>\n",
       "      <td>0</td>\n",
       "      <td>1</td>\n",
       "      <td>1</td>\n",
       "      <td>1</td>\n",
       "      <td>0</td>\n",
       "      <td>1</td>\n",
       "      <td>1</td>\n",
       "      <td>1</td>\n",
       "      <td>0</td>\n",
       "      <td>0</td>\n",
       "      <td>0</td>\n",
       "      <td>1</td>\n",
       "      <td>1</td>\n",
       "      <td>1</td>\n",
       "      <td>1</td>\n",
       "      <td>1</td>\n",
       "      <td>0</td>\n",
       "    </tr>\n",
       "    <tr>\n",
       "      <th>2</th>\n",
       "      <td>1</td>\n",
       "      <td>0</td>\n",
       "      <td>1</td>\n",
       "      <td>0</td>\n",
       "      <td>2</td>\n",
       "      <td>1</td>\n",
       "      <td>1</td>\n",
       "      <td>0</td>\n",
       "      <td>1</td>\n",
       "      <td>0</td>\n",
       "      <td>0</td>\n",
       "      <td>0</td>\n",
       "      <td>0</td>\n",
       "      <td>0</td>\n",
       "      <td>0</td>\n",
       "      <td>0</td>\n",
       "      <td>1</td>\n",
       "      <td>2</td>\n",
       "      <td>2</td>\n",
       "      <td>1</td>\n",
       "    </tr>\n",
       "  </tbody>\n",
       "</table>\n",
       "</div>"
      ],
      "text/plain": [
       "   gender  SeniorCitizen  Partner  Dependents  tenure  PhoneService  \\\n",
       "0       0              0        0           0       0             0   \n",
       "1       1              0        1           0       1             1   \n",
       "2       1              0        1           0       2             1   \n",
       "\n",
       "   MultipleLines  InternetService  OnlineSecurity  OnlineBackup  \\\n",
       "0              0                0               0             0   \n",
       "1              1                0               1             1   \n",
       "2              1                0               1             0   \n",
       "\n",
       "   DeviceProtection  TechSupport  StreamingTV  StreamingMovies  Contract  \\\n",
       "0                 0            0            0                0         0   \n",
       "1                 1            0            0                0         1   \n",
       "2                 0            0            0                0         0   \n",
       "\n",
       "   PaperlessBilling  PaymentMethod  MonthlyCharges  TotalCharges  Churn  \n",
       "0                 0              0               0             0      0  \n",
       "1                 1              1               1             1      0  \n",
       "2                 0              1               2             2      1  "
      ]
     },
     "execution_count": 98,
     "metadata": {},
     "output_type": "execute_result"
    }
   ],
   "source": [
    "customers = customers.apply(lambda col: pd.factorize(col)[0])\t\n",
    "customers.head(3)"
   ]
  },
  {
   "cell_type": "code",
   "execution_count": 99,
   "id": "processed-proposition",
   "metadata": {},
   "outputs": [
    {
     "data": {
      "text/html": [
       "<div>\n",
       "<style scoped>\n",
       "    .dataframe tbody tr th:only-of-type {\n",
       "        vertical-align: middle;\n",
       "    }\n",
       "\n",
       "    .dataframe tbody tr th {\n",
       "        vertical-align: top;\n",
       "    }\n",
       "\n",
       "    .dataframe thead th {\n",
       "        text-align: right;\n",
       "    }\n",
       "</style>\n",
       "<table border=\"1\" class=\"dataframe\">\n",
       "  <thead>\n",
       "    <tr style=\"text-align: right;\">\n",
       "      <th></th>\n",
       "      <th>gender</th>\n",
       "      <th>SeniorCitizen</th>\n",
       "      <th>Partner</th>\n",
       "      <th>Dependents</th>\n",
       "      <th>tenure</th>\n",
       "      <th>PhoneService</th>\n",
       "      <th>MultipleLines</th>\n",
       "      <th>InternetService</th>\n",
       "      <th>OnlineSecurity</th>\n",
       "      <th>OnlineBackup</th>\n",
       "      <th>DeviceProtection</th>\n",
       "      <th>TechSupport</th>\n",
       "      <th>StreamingTV</th>\n",
       "      <th>StreamingMovies</th>\n",
       "      <th>Contract</th>\n",
       "      <th>PaperlessBilling</th>\n",
       "      <th>PaymentMethod</th>\n",
       "      <th>MonthlyCharges</th>\n",
       "      <th>TotalCharges</th>\n",
       "      <th>Churn</th>\n",
       "    </tr>\n",
       "  </thead>\n",
       "  <tbody>\n",
       "    <tr>\n",
       "      <th>gender</th>\n",
       "      <td>1.000000</td>\n",
       "      <td>-0.001874</td>\n",
       "      <td>0.001808</td>\n",
       "      <td>0.010517</td>\n",
       "      <td>-0.000013</td>\n",
       "      <td>-0.006488</td>\n",
       "      <td>-0.009451</td>\n",
       "      <td>-0.000863</td>\n",
       "      <td>-0.003429</td>\n",
       "      <td>0.012230</td>\n",
       "      <td>0.005092</td>\n",
       "      <td>0.000985</td>\n",
       "      <td>0.001156</td>\n",
       "      <td>-0.000191</td>\n",
       "      <td>0.000126</td>\n",
       "      <td>0.011754</td>\n",
       "      <td>-0.005209</td>\n",
       "      <td>-0.008072</td>\n",
       "      <td>-0.012302</td>\n",
       "      <td>-0.008612</td>\n",
       "    </tr>\n",
       "    <tr>\n",
       "      <th>SeniorCitizen</th>\n",
       "      <td>-0.001874</td>\n",
       "      <td>1.000000</td>\n",
       "      <td>-0.016479</td>\n",
       "      <td>-0.211185</td>\n",
       "      <td>0.010834</td>\n",
       "      <td>0.008576</td>\n",
       "      <td>0.113791</td>\n",
       "      <td>-0.032310</td>\n",
       "      <td>-0.210897</td>\n",
       "      <td>-0.144828</td>\n",
       "      <td>-0.157095</td>\n",
       "      <td>-0.223770</td>\n",
       "      <td>-0.130130</td>\n",
       "      <td>-0.120802</td>\n",
       "      <td>-0.142554</td>\n",
       "      <td>-0.156530</td>\n",
       "      <td>-0.093704</td>\n",
       "      <td>0.049649</td>\n",
       "      <td>0.023880</td>\n",
       "      <td>0.150889</td>\n",
       "    </tr>\n",
       "    <tr>\n",
       "      <th>Partner</th>\n",
       "      <td>0.001808</td>\n",
       "      <td>-0.016479</td>\n",
       "      <td>1.000000</td>\n",
       "      <td>-0.452676</td>\n",
       "      <td>-0.101985</td>\n",
       "      <td>-0.017706</td>\n",
       "      <td>-0.117307</td>\n",
       "      <td>-0.000891</td>\n",
       "      <td>-0.081850</td>\n",
       "      <td>0.090753</td>\n",
       "      <td>-0.094451</td>\n",
       "      <td>-0.069072</td>\n",
       "      <td>-0.080127</td>\n",
       "      <td>-0.075779</td>\n",
       "      <td>-0.294806</td>\n",
       "      <td>-0.014877</td>\n",
       "      <td>-0.133115</td>\n",
       "      <td>-0.036054</td>\n",
       "      <td>-0.042628</td>\n",
       "      <td>0.150448</td>\n",
       "    </tr>\n",
       "    <tr>\n",
       "      <th>Dependents</th>\n",
       "      <td>0.010517</td>\n",
       "      <td>-0.211185</td>\n",
       "      <td>-0.452676</td>\n",
       "      <td>1.000000</td>\n",
       "      <td>0.048514</td>\n",
       "      <td>-0.001762</td>\n",
       "      <td>-0.019657</td>\n",
       "      <td>0.044590</td>\n",
       "      <td>0.190523</td>\n",
       "      <td>0.062775</td>\n",
       "      <td>0.156439</td>\n",
       "      <td>0.180832</td>\n",
       "      <td>0.140395</td>\n",
       "      <td>0.125820</td>\n",
       "      <td>0.243187</td>\n",
       "      <td>0.111377</td>\n",
       "      <td>0.123844</td>\n",
       "      <td>-0.029390</td>\n",
       "      <td>0.006300</td>\n",
       "      <td>-0.164221</td>\n",
       "    </tr>\n",
       "    <tr>\n",
       "      <th>tenure</th>\n",
       "      <td>-0.000013</td>\n",
       "      <td>0.010834</td>\n",
       "      <td>-0.101985</td>\n",
       "      <td>0.048514</td>\n",
       "      <td>1.000000</td>\n",
       "      <td>-0.018799</td>\n",
       "      <td>0.063510</td>\n",
       "      <td>-0.012008</td>\n",
       "      <td>0.017083</td>\n",
       "      <td>-0.064613</td>\n",
       "      <td>0.037174</td>\n",
       "      <td>0.033108</td>\n",
       "      <td>0.027090</td>\n",
       "      <td>0.031491</td>\n",
       "      <td>0.122446</td>\n",
       "      <td>-0.011129</td>\n",
       "      <td>0.075379</td>\n",
       "      <td>0.041647</td>\n",
       "      <td>0.108142</td>\n",
       "      <td>-0.144351</td>\n",
       "    </tr>\n",
       "    <tr>\n",
       "      <th>PhoneService</th>\n",
       "      <td>-0.006488</td>\n",
       "      <td>0.008576</td>\n",
       "      <td>-0.017706</td>\n",
       "      <td>-0.001762</td>\n",
       "      <td>-0.018799</td>\n",
       "      <td>1.000000</td>\n",
       "      <td>0.675070</td>\n",
       "      <td>0.387436</td>\n",
       "      <td>0.125353</td>\n",
       "      <td>0.129770</td>\n",
       "      <td>0.138755</td>\n",
       "      <td>0.123350</td>\n",
       "      <td>0.171538</td>\n",
       "      <td>0.165205</td>\n",
       "      <td>0.002247</td>\n",
       "      <td>-0.016505</td>\n",
       "      <td>-0.004070</td>\n",
       "      <td>-0.141829</td>\n",
       "      <td>-0.029806</td>\n",
       "      <td>0.011942</td>\n",
       "    </tr>\n",
       "    <tr>\n",
       "      <th>MultipleLines</th>\n",
       "      <td>-0.009451</td>\n",
       "      <td>0.113791</td>\n",
       "      <td>-0.117307</td>\n",
       "      <td>-0.019657</td>\n",
       "      <td>0.063510</td>\n",
       "      <td>0.675070</td>\n",
       "      <td>1.000000</td>\n",
       "      <td>0.186826</td>\n",
       "      <td>-0.066844</td>\n",
       "      <td>-0.130619</td>\n",
       "      <td>-0.013069</td>\n",
       "      <td>-0.066684</td>\n",
       "      <td>0.030195</td>\n",
       "      <td>0.028187</td>\n",
       "      <td>0.083343</td>\n",
       "      <td>-0.133255</td>\n",
       "      <td>0.025676</td>\n",
       "      <td>0.024338</td>\n",
       "      <td>0.015373</td>\n",
       "      <td>0.036310</td>\n",
       "    </tr>\n",
       "    <tr>\n",
       "      <th>InternetService</th>\n",
       "      <td>-0.000863</td>\n",
       "      <td>-0.032310</td>\n",
       "      <td>-0.000891</td>\n",
       "      <td>0.044590</td>\n",
       "      <td>-0.012008</td>\n",
       "      <td>0.387436</td>\n",
       "      <td>0.186826</td>\n",
       "      <td>1.000000</td>\n",
       "      <td>0.607788</td>\n",
       "      <td>0.650962</td>\n",
       "      <td>0.662957</td>\n",
       "      <td>0.609795</td>\n",
       "      <td>0.712890</td>\n",
       "      <td>0.709020</td>\n",
       "      <td>0.099721</td>\n",
       "      <td>0.138625</td>\n",
       "      <td>0.008124</td>\n",
       "      <td>-0.289963</td>\n",
       "      <td>-0.038247</td>\n",
       "      <td>-0.047291</td>\n",
       "    </tr>\n",
       "    <tr>\n",
       "      <th>OnlineSecurity</th>\n",
       "      <td>-0.003429</td>\n",
       "      <td>-0.210897</td>\n",
       "      <td>-0.081850</td>\n",
       "      <td>0.190523</td>\n",
       "      <td>0.017083</td>\n",
       "      <td>0.125353</td>\n",
       "      <td>-0.066844</td>\n",
       "      <td>0.607788</td>\n",
       "      <td>1.000000</td>\n",
       "      <td>0.621739</td>\n",
       "      <td>0.749040</td>\n",
       "      <td>0.791225</td>\n",
       "      <td>0.701976</td>\n",
       "      <td>0.704984</td>\n",
       "      <td>0.389978</td>\n",
       "      <td>0.334003</td>\n",
       "      <td>0.213800</td>\n",
       "      <td>-0.220566</td>\n",
       "      <td>-0.026788</td>\n",
       "      <td>-0.332819</td>\n",
       "    </tr>\n",
       "    <tr>\n",
       "      <th>OnlineBackup</th>\n",
       "      <td>0.012230</td>\n",
       "      <td>-0.144828</td>\n",
       "      <td>0.090753</td>\n",
       "      <td>0.062775</td>\n",
       "      <td>-0.064613</td>\n",
       "      <td>0.129770</td>\n",
       "      <td>-0.130619</td>\n",
       "      <td>0.650962</td>\n",
       "      <td>0.621739</td>\n",
       "      <td>1.000000</td>\n",
       "      <td>0.601503</td>\n",
       "      <td>0.617003</td>\n",
       "      <td>0.604117</td>\n",
       "      <td>0.606863</td>\n",
       "      <td>0.035407</td>\n",
       "      <td>0.260715</td>\n",
       "      <td>0.003183</td>\n",
       "      <td>-0.284344</td>\n",
       "      <td>-0.054537</td>\n",
       "      <td>-0.074205</td>\n",
       "    </tr>\n",
       "    <tr>\n",
       "      <th>DeviceProtection</th>\n",
       "      <td>0.005092</td>\n",
       "      <td>-0.157095</td>\n",
       "      <td>-0.094451</td>\n",
       "      <td>0.156439</td>\n",
       "      <td>0.037174</td>\n",
       "      <td>0.138755</td>\n",
       "      <td>-0.013069</td>\n",
       "      <td>0.662957</td>\n",
       "      <td>0.749040</td>\n",
       "      <td>0.601503</td>\n",
       "      <td>1.000000</td>\n",
       "      <td>0.767970</td>\n",
       "      <td>0.763279</td>\n",
       "      <td>0.766821</td>\n",
       "      <td>0.390216</td>\n",
       "      <td>0.276326</td>\n",
       "      <td>0.191746</td>\n",
       "      <td>-0.220217</td>\n",
       "      <td>-0.025159</td>\n",
       "      <td>-0.281465</td>\n",
       "    </tr>\n",
       "    <tr>\n",
       "      <th>TechSupport</th>\n",
       "      <td>0.000985</td>\n",
       "      <td>-0.223770</td>\n",
       "      <td>-0.069072</td>\n",
       "      <td>0.180832</td>\n",
       "      <td>0.033108</td>\n",
       "      <td>0.123350</td>\n",
       "      <td>-0.066684</td>\n",
       "      <td>0.609795</td>\n",
       "      <td>0.791225</td>\n",
       "      <td>0.617003</td>\n",
       "      <td>0.767970</td>\n",
       "      <td>1.000000</td>\n",
       "      <td>0.737578</td>\n",
       "      <td>0.737123</td>\n",
       "      <td>0.418440</td>\n",
       "      <td>0.310749</td>\n",
       "      <td>0.216878</td>\n",
       "      <td>-0.213417</td>\n",
       "      <td>-0.021945</td>\n",
       "      <td>-0.329852</td>\n",
       "    </tr>\n",
       "    <tr>\n",
       "      <th>StreamingTV</th>\n",
       "      <td>0.001156</td>\n",
       "      <td>-0.130130</td>\n",
       "      <td>-0.080127</td>\n",
       "      <td>0.140395</td>\n",
       "      <td>0.027090</td>\n",
       "      <td>0.171538</td>\n",
       "      <td>0.030195</td>\n",
       "      <td>0.712890</td>\n",
       "      <td>0.701976</td>\n",
       "      <td>0.604117</td>\n",
       "      <td>0.763279</td>\n",
       "      <td>0.737578</td>\n",
       "      <td>1.000000</td>\n",
       "      <td>0.809608</td>\n",
       "      <td>0.327951</td>\n",
       "      <td>0.203907</td>\n",
       "      <td>0.117618</td>\n",
       "      <td>-0.230706</td>\n",
       "      <td>-0.018643</td>\n",
       "      <td>-0.205742</td>\n",
       "    </tr>\n",
       "    <tr>\n",
       "      <th>StreamingMovies</th>\n",
       "      <td>-0.000191</td>\n",
       "      <td>-0.120802</td>\n",
       "      <td>-0.075779</td>\n",
       "      <td>0.125820</td>\n",
       "      <td>0.031491</td>\n",
       "      <td>0.165205</td>\n",
       "      <td>0.028187</td>\n",
       "      <td>0.709020</td>\n",
       "      <td>0.704984</td>\n",
       "      <td>0.606863</td>\n",
       "      <td>0.766821</td>\n",
       "      <td>0.737123</td>\n",
       "      <td>0.809608</td>\n",
       "      <td>1.000000</td>\n",
       "      <td>0.330993</td>\n",
       "      <td>0.211818</td>\n",
       "      <td>0.123869</td>\n",
       "      <td>-0.241007</td>\n",
       "      <td>-0.026122</td>\n",
       "      <td>-0.207256</td>\n",
       "    </tr>\n",
       "    <tr>\n",
       "      <th>Contract</th>\n",
       "      <td>0.000126</td>\n",
       "      <td>-0.142554</td>\n",
       "      <td>-0.294806</td>\n",
       "      <td>0.243187</td>\n",
       "      <td>0.122446</td>\n",
       "      <td>0.002247</td>\n",
       "      <td>0.083343</td>\n",
       "      <td>0.099721</td>\n",
       "      <td>0.389978</td>\n",
       "      <td>0.035407</td>\n",
       "      <td>0.390216</td>\n",
       "      <td>0.418440</td>\n",
       "      <td>0.327951</td>\n",
       "      <td>0.330993</td>\n",
       "      <td>1.000000</td>\n",
       "      <td>0.176733</td>\n",
       "      <td>0.358913</td>\n",
       "      <td>-0.007618</td>\n",
       "      <td>0.051905</td>\n",
       "      <td>-0.396713</td>\n",
       "    </tr>\n",
       "    <tr>\n",
       "      <th>PaperlessBilling</th>\n",
       "      <td>0.011754</td>\n",
       "      <td>-0.156530</td>\n",
       "      <td>-0.014877</td>\n",
       "      <td>0.111377</td>\n",
       "      <td>-0.011129</td>\n",
       "      <td>-0.016505</td>\n",
       "      <td>-0.133255</td>\n",
       "      <td>0.138625</td>\n",
       "      <td>0.334003</td>\n",
       "      <td>0.260715</td>\n",
       "      <td>0.276326</td>\n",
       "      <td>0.310749</td>\n",
       "      <td>0.203907</td>\n",
       "      <td>0.211818</td>\n",
       "      <td>0.176733</td>\n",
       "      <td>1.000000</td>\n",
       "      <td>0.101480</td>\n",
       "      <td>-0.087229</td>\n",
       "      <td>-0.011179</td>\n",
       "      <td>-0.191825</td>\n",
       "    </tr>\n",
       "    <tr>\n",
       "      <th>PaymentMethod</th>\n",
       "      <td>-0.005209</td>\n",
       "      <td>-0.093704</td>\n",
       "      <td>-0.133115</td>\n",
       "      <td>0.123844</td>\n",
       "      <td>0.075379</td>\n",
       "      <td>-0.004070</td>\n",
       "      <td>0.025676</td>\n",
       "      <td>0.008124</td>\n",
       "      <td>0.213800</td>\n",
       "      <td>0.003183</td>\n",
       "      <td>0.191746</td>\n",
       "      <td>0.216878</td>\n",
       "      <td>0.117618</td>\n",
       "      <td>0.123869</td>\n",
       "      <td>0.358913</td>\n",
       "      <td>0.101480</td>\n",
       "      <td>1.000000</td>\n",
       "      <td>-0.009290</td>\n",
       "      <td>0.008458</td>\n",
       "      <td>-0.262818</td>\n",
       "    </tr>\n",
       "    <tr>\n",
       "      <th>MonthlyCharges</th>\n",
       "      <td>-0.008072</td>\n",
       "      <td>0.049649</td>\n",
       "      <td>-0.036054</td>\n",
       "      <td>-0.029390</td>\n",
       "      <td>0.041647</td>\n",
       "      <td>-0.141829</td>\n",
       "      <td>0.024338</td>\n",
       "      <td>-0.289963</td>\n",
       "      <td>-0.220566</td>\n",
       "      <td>-0.284344</td>\n",
       "      <td>-0.220217</td>\n",
       "      <td>-0.213417</td>\n",
       "      <td>-0.230706</td>\n",
       "      <td>-0.241007</td>\n",
       "      <td>-0.007618</td>\n",
       "      <td>-0.087229</td>\n",
       "      <td>-0.009290</td>\n",
       "      <td>1.000000</td>\n",
       "      <td>0.267898</td>\n",
       "      <td>0.020966</td>\n",
       "    </tr>\n",
       "    <tr>\n",
       "      <th>TotalCharges</th>\n",
       "      <td>-0.012302</td>\n",
       "      <td>0.023880</td>\n",
       "      <td>-0.042628</td>\n",
       "      <td>0.006300</td>\n",
       "      <td>0.108142</td>\n",
       "      <td>-0.029806</td>\n",
       "      <td>0.015373</td>\n",
       "      <td>-0.038247</td>\n",
       "      <td>-0.026788</td>\n",
       "      <td>-0.054537</td>\n",
       "      <td>-0.025159</td>\n",
       "      <td>-0.021945</td>\n",
       "      <td>-0.018643</td>\n",
       "      <td>-0.026122</td>\n",
       "      <td>0.051905</td>\n",
       "      <td>-0.011179</td>\n",
       "      <td>0.008458</td>\n",
       "      <td>0.267898</td>\n",
       "      <td>1.000000</td>\n",
       "      <td>-0.027614</td>\n",
       "    </tr>\n",
       "    <tr>\n",
       "      <th>Churn</th>\n",
       "      <td>-0.008612</td>\n",
       "      <td>0.150889</td>\n",
       "      <td>0.150448</td>\n",
       "      <td>-0.164221</td>\n",
       "      <td>-0.144351</td>\n",
       "      <td>0.011942</td>\n",
       "      <td>0.036310</td>\n",
       "      <td>-0.047291</td>\n",
       "      <td>-0.332819</td>\n",
       "      <td>-0.074205</td>\n",
       "      <td>-0.281465</td>\n",
       "      <td>-0.329852</td>\n",
       "      <td>-0.205742</td>\n",
       "      <td>-0.207256</td>\n",
       "      <td>-0.396713</td>\n",
       "      <td>-0.191825</td>\n",
       "      <td>-0.262818</td>\n",
       "      <td>0.020966</td>\n",
       "      <td>-0.027614</td>\n",
       "      <td>1.000000</td>\n",
       "    </tr>\n",
       "  </tbody>\n",
       "</table>\n",
       "</div>"
      ],
      "text/plain": [
       "                    gender  SeniorCitizen   Partner  Dependents    tenure  \\\n",
       "gender            1.000000      -0.001874  0.001808    0.010517 -0.000013   \n",
       "SeniorCitizen    -0.001874       1.000000 -0.016479   -0.211185  0.010834   \n",
       "Partner           0.001808      -0.016479  1.000000   -0.452676 -0.101985   \n",
       "Dependents        0.010517      -0.211185 -0.452676    1.000000  0.048514   \n",
       "tenure           -0.000013       0.010834 -0.101985    0.048514  1.000000   \n",
       "PhoneService     -0.006488       0.008576 -0.017706   -0.001762 -0.018799   \n",
       "MultipleLines    -0.009451       0.113791 -0.117307   -0.019657  0.063510   \n",
       "InternetService  -0.000863      -0.032310 -0.000891    0.044590 -0.012008   \n",
       "OnlineSecurity   -0.003429      -0.210897 -0.081850    0.190523  0.017083   \n",
       "OnlineBackup      0.012230      -0.144828  0.090753    0.062775 -0.064613   \n",
       "DeviceProtection  0.005092      -0.157095 -0.094451    0.156439  0.037174   \n",
       "TechSupport       0.000985      -0.223770 -0.069072    0.180832  0.033108   \n",
       "StreamingTV       0.001156      -0.130130 -0.080127    0.140395  0.027090   \n",
       "StreamingMovies  -0.000191      -0.120802 -0.075779    0.125820  0.031491   \n",
       "Contract          0.000126      -0.142554 -0.294806    0.243187  0.122446   \n",
       "PaperlessBilling  0.011754      -0.156530 -0.014877    0.111377 -0.011129   \n",
       "PaymentMethod    -0.005209      -0.093704 -0.133115    0.123844  0.075379   \n",
       "MonthlyCharges   -0.008072       0.049649 -0.036054   -0.029390  0.041647   \n",
       "TotalCharges     -0.012302       0.023880 -0.042628    0.006300  0.108142   \n",
       "Churn            -0.008612       0.150889  0.150448   -0.164221 -0.144351   \n",
       "\n",
       "                  PhoneService  MultipleLines  InternetService  \\\n",
       "gender               -0.006488      -0.009451        -0.000863   \n",
       "SeniorCitizen         0.008576       0.113791        -0.032310   \n",
       "Partner              -0.017706      -0.117307        -0.000891   \n",
       "Dependents           -0.001762      -0.019657         0.044590   \n",
       "tenure               -0.018799       0.063510        -0.012008   \n",
       "PhoneService          1.000000       0.675070         0.387436   \n",
       "MultipleLines         0.675070       1.000000         0.186826   \n",
       "InternetService       0.387436       0.186826         1.000000   \n",
       "OnlineSecurity        0.125353      -0.066844         0.607788   \n",
       "OnlineBackup          0.129770      -0.130619         0.650962   \n",
       "DeviceProtection      0.138755      -0.013069         0.662957   \n",
       "TechSupport           0.123350      -0.066684         0.609795   \n",
       "StreamingTV           0.171538       0.030195         0.712890   \n",
       "StreamingMovies       0.165205       0.028187         0.709020   \n",
       "Contract              0.002247       0.083343         0.099721   \n",
       "PaperlessBilling     -0.016505      -0.133255         0.138625   \n",
       "PaymentMethod        -0.004070       0.025676         0.008124   \n",
       "MonthlyCharges       -0.141829       0.024338        -0.289963   \n",
       "TotalCharges         -0.029806       0.015373        -0.038247   \n",
       "Churn                 0.011942       0.036310        -0.047291   \n",
       "\n",
       "                  OnlineSecurity  OnlineBackup  DeviceProtection  TechSupport  \\\n",
       "gender                 -0.003429      0.012230          0.005092     0.000985   \n",
       "SeniorCitizen          -0.210897     -0.144828         -0.157095    -0.223770   \n",
       "Partner                -0.081850      0.090753         -0.094451    -0.069072   \n",
       "Dependents              0.190523      0.062775          0.156439     0.180832   \n",
       "tenure                  0.017083     -0.064613          0.037174     0.033108   \n",
       "PhoneService            0.125353      0.129770          0.138755     0.123350   \n",
       "MultipleLines          -0.066844     -0.130619         -0.013069    -0.066684   \n",
       "InternetService         0.607788      0.650962          0.662957     0.609795   \n",
       "OnlineSecurity          1.000000      0.621739          0.749040     0.791225   \n",
       "OnlineBackup            0.621739      1.000000          0.601503     0.617003   \n",
       "DeviceProtection        0.749040      0.601503          1.000000     0.767970   \n",
       "TechSupport             0.791225      0.617003          0.767970     1.000000   \n",
       "StreamingTV             0.701976      0.604117          0.763279     0.737578   \n",
       "StreamingMovies         0.704984      0.606863          0.766821     0.737123   \n",
       "Contract                0.389978      0.035407          0.390216     0.418440   \n",
       "PaperlessBilling        0.334003      0.260715          0.276326     0.310749   \n",
       "PaymentMethod           0.213800      0.003183          0.191746     0.216878   \n",
       "MonthlyCharges         -0.220566     -0.284344         -0.220217    -0.213417   \n",
       "TotalCharges           -0.026788     -0.054537         -0.025159    -0.021945   \n",
       "Churn                  -0.332819     -0.074205         -0.281465    -0.329852   \n",
       "\n",
       "                  StreamingTV  StreamingMovies  Contract  PaperlessBilling  \\\n",
       "gender               0.001156        -0.000191  0.000126          0.011754   \n",
       "SeniorCitizen       -0.130130        -0.120802 -0.142554         -0.156530   \n",
       "Partner             -0.080127        -0.075779 -0.294806         -0.014877   \n",
       "Dependents           0.140395         0.125820  0.243187          0.111377   \n",
       "tenure               0.027090         0.031491  0.122446         -0.011129   \n",
       "PhoneService         0.171538         0.165205  0.002247         -0.016505   \n",
       "MultipleLines        0.030195         0.028187  0.083343         -0.133255   \n",
       "InternetService      0.712890         0.709020  0.099721          0.138625   \n",
       "OnlineSecurity       0.701976         0.704984  0.389978          0.334003   \n",
       "OnlineBackup         0.604117         0.606863  0.035407          0.260715   \n",
       "DeviceProtection     0.763279         0.766821  0.390216          0.276326   \n",
       "TechSupport          0.737578         0.737123  0.418440          0.310749   \n",
       "StreamingTV          1.000000         0.809608  0.327951          0.203907   \n",
       "StreamingMovies      0.809608         1.000000  0.330993          0.211818   \n",
       "Contract             0.327951         0.330993  1.000000          0.176733   \n",
       "PaperlessBilling     0.203907         0.211818  0.176733          1.000000   \n",
       "PaymentMethod        0.117618         0.123869  0.358913          0.101480   \n",
       "MonthlyCharges      -0.230706        -0.241007 -0.007618         -0.087229   \n",
       "TotalCharges        -0.018643        -0.026122  0.051905         -0.011179   \n",
       "Churn               -0.205742        -0.207256 -0.396713         -0.191825   \n",
       "\n",
       "                  PaymentMethod  MonthlyCharges  TotalCharges     Churn  \n",
       "gender                -0.005209       -0.008072     -0.012302 -0.008612  \n",
       "SeniorCitizen         -0.093704        0.049649      0.023880  0.150889  \n",
       "Partner               -0.133115       -0.036054     -0.042628  0.150448  \n",
       "Dependents             0.123844       -0.029390      0.006300 -0.164221  \n",
       "tenure                 0.075379        0.041647      0.108142 -0.144351  \n",
       "PhoneService          -0.004070       -0.141829     -0.029806  0.011942  \n",
       "MultipleLines          0.025676        0.024338      0.015373  0.036310  \n",
       "InternetService        0.008124       -0.289963     -0.038247 -0.047291  \n",
       "OnlineSecurity         0.213800       -0.220566     -0.026788 -0.332819  \n",
       "OnlineBackup           0.003183       -0.284344     -0.054537 -0.074205  \n",
       "DeviceProtection       0.191746       -0.220217     -0.025159 -0.281465  \n",
       "TechSupport            0.216878       -0.213417     -0.021945 -0.329852  \n",
       "StreamingTV            0.117618       -0.230706     -0.018643 -0.205742  \n",
       "StreamingMovies        0.123869       -0.241007     -0.026122 -0.207256  \n",
       "Contract               0.358913       -0.007618      0.051905 -0.396713  \n",
       "PaperlessBilling       0.101480       -0.087229     -0.011179 -0.191825  \n",
       "PaymentMethod          1.000000       -0.009290      0.008458 -0.262818  \n",
       "MonthlyCharges        -0.009290        1.000000      0.267898  0.020966  \n",
       "TotalCharges           0.008458        0.267898      1.000000 -0.027614  \n",
       "Churn                 -0.262818        0.020966     -0.027614  1.000000  "
      ]
     },
     "execution_count": 99,
     "metadata": {},
     "output_type": "execute_result"
    }
   ],
   "source": [
    "corr = customers.corr()\n",
    "corr"
   ]
  },
  {
   "cell_type": "code",
   "execution_count": 100,
   "id": "ceramic-transmission",
   "metadata": {},
   "outputs": [
    {
     "data": {
      "image/png": "[encoded data removed]",
      "text/plain": [
       "<Figure size 576x576 with 1 Axes>"
      ]
     },
     "metadata": {
      "needs_background": "light"
     },
     "output_type": "display_data"
    }
   ],
   "source": [
    "fig = plt.figure(figsize=(8,8))\n",
    "plt.matshow(corr, cmap='RdBu', fignum=fig.number)\n",
    "plt.xticks(range(len(corr.columns)), corr.columns, rotation='vertical');\n",
    "plt.yticks(range(len(corr.columns)), corr.columns);"
   ]
  },
  {
   "cell_type": "code",
   "execution_count": 101,
   "id": "dangerous-motivation",
   "metadata": {},
   "outputs": [
    {
     "data": {
      "text/plain": [
       "<AxesSubplot:xlabel='tenure', ylabel='MonthlyCharges'>"
      ]
     },
     "execution_count": 101,
     "metadata": {},
     "output_type": "execute_result"
    },
    {
     "data": {
      "image/png": "[encoded data removed]",
      "text/plain": [
       "<Figure size 432x432 with 1 Axes>"
      ]
     },
     "metadata": {
      "needs_background": "light"
     },
     "output_type": "display_data"
    }
   ],
   "source": [
    "customers.plot(kind='scatter', x='tenure', y='MonthlyCharges', figsize=(6,6))"
   ]
  },
  {
   "cell_type": "markdown",
   "id": "recent-convenience",
   "metadata": {},
   "source": [
    "## Applying KNN "
   ]
  },
  {
   "cell_type": "code",
   "execution_count": 102,
   "id": "outdoor-advocate",
   "metadata": {},
   "outputs": [],
   "source": [
    "import pandas as pd\n",
    "import matplotlib.pyplot as plt\n",
    "from sklearn.model_selection import train_test_split\n",
    "from sklearn.neighbors import KNeighborsClassifier\n",
    "from sklearn.svm import SVC\n",
    "from sklearn.metrics import plot_confusion_matrix"
   ]
  },
  {
   "cell_type": "markdown",
   "id": "developing-commission",
   "metadata": {},
   "source": [
    "Splitting data"
   ]
  },
  {
   "cell_type": "code",
   "execution_count": 103,
   "id": "apparent-falls",
   "metadata": {},
   "outputs": [],
   "source": [
    "all_inputs = customers.loc[:,customers.columns!='Churn'].values\n",
    "all_classes = customers['Churn'].values\n",
    "(train_inputs, test_inputs, train_classes, test_classes) = train_test_split(all_inputs, all_classes, train_size=0.7, random_state=1)"
   ]
  },
  {
   "cell_type": "markdown",
   "id": "worldwide-logan",
   "metadata": {},
   "source": [
    "Comparing diffenrt values of K:"
   ]
  },
  {
   "cell_type": "code",
   "execution_count": 104,
   "id": "spoken-shower",
   "metadata": {},
   "outputs": [
    {
     "data": {
      "image/png": "[encoded data removed]",
      "text/plain": [
       "<Figure size 720x432 with 1 Axes>"
      ]
     },
     "metadata": {
      "needs_background": "light"
     },
     "output_type": "display_data"
    }
   ],
   "source": [
    "def getScore(k, train_inputs, train_classes, test_inputs, test_classes):\n",
    "    knn = KNeighborsClassifier(n_neighbors=k)\n",
    "    knn.fit(train_inputs, train_classes)\n",
    "    return knn.score(test_inputs, test_classes)\n",
    "\n",
    "scores = []\n",
    "for k in range(1, 50):\n",
    "    score = getScore(k, train_inputs, train_classes, test_inputs, test_classes)\n",
    "    scores.append(score)\n",
    "\n",
    "plt.figure(figsize=(10, 6))\n",
    "plt.plot(range(1, 50), scores, color='blue', linestyle='dashed',\n",
    "         marker='o', markerfacecolor='red', markersize=10)\n",
    "plt.title('accuracy vs. K Value')\n",
    "plt.xlabel('K')\n",
    "plt.ylabel('Accuracy')\n",
    "plt.show()\n"
   ]
  },
  {
   "cell_type": "markdown",
   "id": "excessive-rugby",
   "metadata": {},
   "source": [
    "Maximum accuracy:"
   ]
  },
  {
   "cell_type": "code",
   "execution_count": 105,
   "id": "consolidated-corrections",
   "metadata": {},
   "outputs": [
    {
     "data": {
      "text/plain": [
       "0.7501183151916706"
      ]
     },
     "execution_count": 105,
     "metadata": {},
     "output_type": "execute_result"
    }
   ],
   "source": [
    "knn_accuracy = max(scores)\n",
    "knn_accuracy"
   ]
  },
  {
   "cell_type": "markdown",
   "id": "electric-riding",
   "metadata": {},
   "source": [
    "For k:"
   ]
  },
  {
   "cell_type": "code",
   "execution_count": 106,
   "id": "nervous-brighton",
   "metadata": {},
   "outputs": [
    {
     "data": {
      "text/plain": [
       "28"
      ]
     },
     "execution_count": 106,
     "metadata": {},
     "output_type": "execute_result"
    }
   ],
   "source": [
    "MAX_K = scores.index(max(scores)) + 1\n",
    "MAX_K"
   ]
  },
  {
   "cell_type": "code",
   "execution_count": 107,
   "id": "handled-leeds",
   "metadata": {},
   "outputs": [
    {
     "data": {
      "image/png": "[encoded data removed]",
      "text/plain": [
       "<Figure size 432x288 with 2 Axes>"
      ]
     },
     "metadata": {
      "needs_background": "light"
     },
     "output_type": "display_data"
    }
   ],
   "source": [
    "clf = KNeighborsClassifier(n_neighbors=MAX_K)\n",
    "clf.fit(train_inputs, train_classes)\n",
    "plot_confusion_matrix(clf, test_inputs, test_classes)\n",
    "plt.show()"
   ]
  },
  {
   "cell_type": "markdown",
   "id": "dependent-truth",
   "metadata": {},
   "source": [
    "## Applying decision tree classification"
   ]
  },
  {
   "cell_type": "code",
   "execution_count": 108,
   "id": "martial-blast",
   "metadata": {},
   "outputs": [
    {
     "data": {
      "text/plain": [
       "DecisionTreeClassifier(ccp_alpha=0.01, random_state=0)"
      ]
     },
     "execution_count": 108,
     "metadata": {},
     "output_type": "execute_result"
    }
   ],
   "source": [
    "from sklearn.tree import DecisionTreeClassifier\n",
    "\n",
    "(train_inputs, test_inputs, train_classes, test_classes) = train_test_split(all_inputs, all_classes, train_size=0.7,                                                                                random_state=1)\n",
    "dtc = DecisionTreeClassifier(random_state=0, ccp_alpha=0.01)\n",
    "dtc.fit(train_inputs, train_classes)"
   ]
  },
  {
   "cell_type": "markdown",
   "id": "solved-blocking",
   "metadata": {},
   "source": [
    "Accuracy is:"
   ]
  },
  {
   "cell_type": "code",
   "execution_count": 109,
   "id": "sapphire-origin",
   "metadata": {},
   "outputs": [
    {
     "data": {
      "text/plain": [
       "0.7529578797917653"
      ]
     },
     "execution_count": 109,
     "metadata": {},
     "output_type": "execute_result"
    }
   ],
   "source": [
    "dtc.score(test_inputs, test_classes)"
   ]
  },
  {
   "cell_type": "code",
   "execution_count": 110,
   "id": "utility-limitation",
   "metadata": {},
   "outputs": [
    {
     "data": {
      "image/png": "[encoded data removed]",
      "text/plain": [
       "<Figure size 720x432 with 1 Axes>"
      ]
     },
     "metadata": {
      "needs_background": "light"
     },
     "output_type": "display_data"
    }
   ],
   "source": [
    "# pruning\n",
    "path = dtc.cost_complexity_pruning_path(train_inputs, train_classes)\n",
    "ccp_alphas, impurities = path.ccp_alphas, path.impurities\n",
    "plt.figure(figsize=(10, 6))\n",
    "plt.plot(ccp_alphas, impurities)\n",
    "plt.xlabel(\"effective alpha\")\n",
    "plt.ylabel(\"impurities\")\n",
    "plt.show()"
   ]
  },
  {
   "cell_type": "code",
   "execution_count": 111,
   "id": "billion-vertical",
   "metadata": {},
   "outputs": [
    {
     "data": {
      "image/png": "[encoded data removed]",
      "text/plain": [
       "<Figure size 720x432 with 1 Axes>"
      ]
     },
     "metadata": {
      "needs_background": "light"
     },
     "output_type": "display_data"
    }
   ],
   "source": [
    "from sklearn.metrics import accuracy_score\n",
    "\n",
    "clfs = []\n",
    "for ccp_alpha in ccp_alphas:\n",
    "    dtc = DecisionTreeClassifier(random_state=0, ccp_alpha=ccp_alpha)\n",
    "    dtc.fit(train_inputs, train_classes)\n",
    "    clfs.append(dtc)\n",
    "acc_scores = [accuracy_score(test_classes, clf.predict(test_inputs)) for clf in clfs]\n",
    "tree_depths = [clf.tree_.max_depth for clf in clfs]\n",
    "plt.figure(figsize=(10, 6))\n",
    "plt.grid()\n",
    "plt.plot(ccp_alphas[:-1], acc_scores[:-1])\n",
    "plt.xlabel(\"Effective alpha\")\n",
    "plt.ylabel(\"Accuracy scores\")\n",
    "plt.show()"
   ]
  },
  {
   "cell_type": "markdown",
   "id": "generic-spirit",
   "metadata": {},
   "source": [
    "Max score "
   ]
  },
  {
   "cell_type": "code",
   "execution_count": 112,
   "id": "retired-visit",
   "metadata": {},
   "outputs": [
    {
     "data": {
      "text/plain": [
       "0.795551348793185"
      ]
     },
     "execution_count": 112,
     "metadata": {},
     "output_type": "execute_result"
    }
   ],
   "source": [
    "dtc_accuracy = max(acc_scores[:-1])\n",
    "dtc_accuracy"
   ]
  },
  {
   "cell_type": "markdown",
   "id": "cutting-jungle",
   "metadata": {},
   "source": [
    "Best alpha"
   ]
  },
  {
   "cell_type": "code",
   "execution_count": 113,
   "id": "scheduled-macedonia",
   "metadata": {},
   "outputs": [
    {
     "data": {
      "text/plain": [
       "0.0004946597238686492"
      ]
     },
     "execution_count": 113,
     "metadata": {},
     "output_type": "execute_result"
    }
   ],
   "source": [
    "best_alpha = ccp_alphas[acc_scores.index(dtc_accuracy)]\n",
    "best_alpha"
   ]
  },
  {
   "cell_type": "markdown",
   "id": "cooperative-devil",
   "metadata": {},
   "source": [
    "Confusion matrix"
   ]
  },
  {
   "cell_type": "code",
   "execution_count": 114,
   "id": "infinite-stand",
   "metadata": {},
   "outputs": [
    {
     "data": {
      "image/png": "[encoded data removed]",
      "text/plain": [
       "<Figure size 432x288 with 2 Axes>"
      ]
     },
     "metadata": {
      "needs_background": "light"
     },
     "output_type": "display_data"
    }
   ],
   "source": [
    "clf = DecisionTreeClassifier(random_state=0, ccp_alpha=best_alpha)\n",
    "clf.fit(train_inputs, train_classes)\n",
    "plot_confusion_matrix(clf, test_inputs, test_classes)\n",
    "plt.show()"
   ]
  },
  {
   "cell_type": "markdown",
   "id": "satisfactory-witch",
   "metadata": {},
   "source": [
    "## Applyting Naive Bayes"
   ]
  },
  {
   "cell_type": "code",
   "execution_count": 115,
   "id": "supposed-personality",
   "metadata": {},
   "outputs": [],
   "source": [
    "from sklearn.naive_bayes import GaussianNB\n",
    "\n",
    "(train_inputs, test_inputs, train_classes, test_classes) = train_test_split(all_inputs, all_classes, train_size=0.7,                                                                                random_state=1)\n",
    "\n",
    "gnb = GaussianNB()\n",
    "gnb.fit(train_inputs, train_classes)\n",
    "pred = gnb.fit(train_inputs, train_classes).predict(test_inputs)\n"
   ]
  },
  {
   "cell_type": "markdown",
   "id": "metallic-story",
   "metadata": {},
   "source": [
    "Accuracy"
   ]
  },
  {
   "cell_type": "code",
   "execution_count": 116,
   "id": "forbidden-respect",
   "metadata": {},
   "outputs": [
    {
     "data": {
      "text/plain": [
       "0.7127307146237577"
      ]
     },
     "execution_count": 116,
     "metadata": {},
     "output_type": "execute_result"
    }
   ],
   "source": [
    "nb_accuracy = accuracy_score(test_classes, gnb.predict(test_inputs))\n",
    "nb_accuracy"
   ]
  },
  {
   "cell_type": "code",
   "execution_count": 117,
   "id": "emotional-helping",
   "metadata": {},
   "outputs": [
    {
     "data": {
      "image/png": "[encoded data removed]",
      "text/plain": [
       "<Figure size 432x288 with 2 Axes>"
      ]
     },
     "metadata": {
      "needs_background": "light"
     },
     "output_type": "display_data"
    }
   ],
   "source": [
    "plot_confusion_matrix(gnb, test_inputs, test_classes)\n",
    "plt.show()"
   ]
  },
  {
   "cell_type": "markdown",
   "id": "opened-science",
   "metadata": {},
   "source": [
    "## Comparing 3 accuraccies"
   ]
  },
  {
   "cell_type": "code",
   "execution_count": 118,
   "id": "identified-links",
   "metadata": {},
   "outputs": [
    {
     "data": {
      "image/png": "[encoded data removed]",
      "text/plain": [
       "<Figure size 432x288 with 1 Axes>"
      ]
     },
     "metadata": {
      "needs_background": "light"
     },
     "output_type": "display_data"
    }
   ],
   "source": [
    "objects = ('KNN', 'DTC', 'NaiveBayes')\n",
    "y_pos = np.arange(len(objects))\n",
    "performance = [knn_accuracy, dtc_accuracy, nb_accuracy]\n",
    "\n",
    "plt.bar(y_pos, performance, align='center', alpha=0.5, color = 'purple')\n",
    "plt.xticks(y_pos, objects)\n",
    "plt.ylabel('Accuracy')\n",
    "plt.title('Accuracies of supervised learning algorithms')\n",
    "plt.show()"
   ]
  },
  {
   "cell_type": "markdown",
   "id": "wicked-shanghai",
   "metadata": {},
   "source": [
    "# Conclusion"
   ]
  },
  {
   "cell_type": "code",
   "execution_count": 119,
   "id": "varied-heavy",
   "metadata": {},
   "outputs": [
    {
     "data": {
      "text/plain": [
       "0.7501183151916706"
      ]
     },
     "execution_count": 119,
     "metadata": {},
     "output_type": "execute_result"
    }
   ],
   "source": [
    "knn_accuracy"
   ]
  },
  {
   "cell_type": "code",
   "execution_count": 120,
   "id": "loved-miniature",
   "metadata": {},
   "outputs": [
    {
     "data": {
      "text/plain": [
       "0.795551348793185"
      ]
     },
     "execution_count": 120,
     "metadata": {},
     "output_type": "execute_result"
    }
   ],
   "source": [
    "dtc_accuracy"
   ]
  },
  {
   "cell_type": "code",
   "execution_count": 121,
   "id": "chronic-minnesota",
   "metadata": {},
   "outputs": [
    {
     "data": {
      "text/plain": [
       "0.7127307146237577"
      ]
     },
     "execution_count": 121,
     "metadata": {},
     "output_type": "execute_result"
    }
   ],
   "source": [
    "nb_accuracy"
   ]
  },
  {
   "cell_type": "markdown",
   "id": "stuck-ebony",
   "metadata": {},
   "source": [
    "Decision tree classiffier outperformed other algorithms.\n",
    "False negative is more risky in the case. For the company is more beneficial to take excessive actions to keep the customer, than lose the customer."
   ]
  }
 ],
 "metadata": {
  "kernelspec": {
   "display_name": "Python 3",
   "language": "python",
   "name": "python3"
  },
  "language_info": {
   "codemirror_mode": {
    "name": "ipython",
    "version": 3
   },
   "file_extension": ".py",
   "mimetype": "text/x-python",
   "name": "python",
   "nbconvert_exporter": "python",
   "pygments_lexer": "ipython3",
   "version": "3.9.0"
  }
 },
 "nbformat": 4,
 "nbformat_minor": 5
}
